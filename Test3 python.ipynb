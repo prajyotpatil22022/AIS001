{
 "cells": [
  {
   "cell_type": "markdown",
   "metadata": {},
   "source": [
    "## *Python Exercise\n",
    "## *List and Tuple in python:"
   ]
  },
  {
   "cell_type": "markdown",
   "metadata": {},
   "source": [
    "### 1. What is tuple?\n",
    "\n",
    "Ans- Tuple is a python sequence which stores a group of elements or items.It is represented by parentheses()."
   ]
  },
  {
   "cell_type": "markdown",
   "metadata": {},
   "source": [
    "### 2. What is difference between list and tuple?\n",
    "\n",
    "Ans- A list can stores a group of elements of different datatypes.It is  represented by squared brackets [].Tuple is a python sequence which stores a group of elements or items.It is represented by parentheses().Tuples are similar to lists but only  the main difference is tuples are immutable whereas lists are mutable."
   ]
  },
  {
   "cell_type": "markdown",
   "metadata": {},
   "source": [
    "### 3. What is the result of range (1, 12, 2)?\n",
    "\n",
    "Ans-the result of range (1, 12, 2) is [1,3,5,7,9,11]"
   ]
  },
  {
   "cell_type": "code",
   "execution_count": 7,
   "metadata": {},
   "outputs": [
    {
     "name": "stdout",
     "output_type": "stream",
     "text": [
      "range(1, 12, 2)\n",
      "1\n",
      "3\n",
      "5\n",
      "7\n",
      "9\n",
      "11\n"
     ]
    }
   ],
   "source": [
    "a=range(1, 12, 2)\n",
    "print(a)\n",
    "for i in a:\n",
    "    print(i)"
   ]
  },
  {
   "cell_type": "markdown",
   "metadata": {},
   "source": [
    "### 4. Assuming a= [10, 20, 30, 40, 50]\n",
    "    1. Find length of a list?\n",
    "    2. Find maximum and minimum number of a list"
   ]
  },
  {
   "cell_type": "code",
   "execution_count": 8,
   "metadata": {},
   "outputs": [
    {
     "name": "stdout",
     "output_type": "stream",
     "text": [
      "length of a list is 5\n",
      "minimum number of a list is 10\n",
      "maximum number of a list is 50\n"
     ]
    }
   ],
   "source": [
    "a= [10, 20, 30, 40, 50]\n",
    "b=len(a)\n",
    "c=min(a)\n",
    "d=max(a)\n",
    "print(\"length of a list is\",b)\n",
    "print(\"minimum number of a list is\",c)\n",
    "print(\"maximum number of a list is\",d)"
   ]
  },
  {
   "cell_type": "markdown",
   "metadata": {},
   "source": [
    "### 5. If x=(1,2,3,4,5,1,3,1) then what is the result of x*2 and x.count(1)?"
   ]
  },
  {
   "cell_type": "code",
   "execution_count": 9,
   "metadata": {},
   "outputs": [
    {
     "name": "stdout",
     "output_type": "stream",
     "text": [
      "(1, 2, 3, 4, 5, 1, 3, 1, 1, 2, 3, 4, 5, 1, 3, 1)\n",
      "3\n"
     ]
    }
   ],
   "source": [
    "# To repeat same tuple multiple times(for eg. 2,3,.. times) we used \"*\" \n",
    "# To get the Frequency of an element that is How many times the given element is present in the tuple oand list we used count().\n",
    "\n",
    "x=(1,2,3,4,5,1,3,1) \n",
    "print(x*2)\n",
    "print(x.count(1))"
   ]
  },
  {
   "cell_type": "markdown",
   "metadata": {},
   "source": [
    "### 6. Create a list of colors name and then print first and last color name of the list using slicing?"
   ]
  },
  {
   "cell_type": "code",
   "execution_count": 29,
   "metadata": {},
   "outputs": [
    {
     "name": "stdout",
     "output_type": "stream",
     "text": [
      "1st element of the list is blue\n",
      "last element of the list is black\n"
     ]
    }
   ],
   "source": [
    "#Slicing (indexing) is used to access the element from the list.\n",
    "\n",
    "color=[\"red\",\"blue\",\"pink\",\"yellow\",\"black\"]\n",
    "print(\"1st element of the list is\",color[1])\n",
    "print(\"last element of the list is\",color[4])"
   ]
  },
  {
   "cell_type": "markdown",
   "metadata": {},
   "source": [
    "### 7. If list = [1,4,7,'a','c',\"rat\",\"mat\",4,6,4] then add element 12 using append method and remove rat element using remove method  in the given list?"
   ]
  },
  {
   "cell_type": "code",
   "execution_count": 11,
   "metadata": {},
   "outputs": [
    {
     "name": "stdout",
     "output_type": "stream",
     "text": [
      "[1, 4, 7, 'a', 'c', 'mat', 4, 6, 4, 12]\n"
     ]
    }
   ],
   "source": [
    "# append method always add element in the last of the list.\n",
    "\n",
    "list = [1,4,7,'a','c',\"rat\",\"mat\",4,6,4] \n",
    "a=list.append(12)\n",
    "b=list.remove(\"rat\")\n",
    "print(list)"
   ]
  },
  {
   "cell_type": "markdown",
   "metadata": {},
   "source": [
    "### 8. Create two list and concatenate them and then repeat 1st list 3 times?"
   ]
  },
  {
   "cell_type": "code",
   "execution_count": 12,
   "metadata": {},
   "outputs": [
    {
     "name": "stdout",
     "output_type": "stream",
     "text": [
      "[1, 2, 3, 4, 5, 6]\n",
      "[1, 2, 3, 1, 2, 3, 1, 2, 3]\n"
     ]
    }
   ],
   "source": [
    "# To concatenate list,tuple,string etc we use addition \"+\" operator.\n",
    "list1=[1,2,3]\n",
    "list2=[4,5,6]\n",
    "x=list1+list2\n",
    "print(x)\n",
    "print(list1*3)"
   ]
  },
  {
   "cell_type": "markdown",
   "metadata": {},
   "source": [
    "### 9. Create a tuple of fruits name and then access first 4 elements from the tuple?"
   ]
  },
  {
   "cell_type": "code",
   "execution_count": 61,
   "metadata": {},
   "outputs": [
    {
     "name": "stdout",
     "output_type": "stream",
     "text": [
      "('apple', 'banana', 'mango', 'cherry')\n"
     ]
    }
   ],
   "source": [
    "#By using Slicing we can access or extract the elements or items from list and tuple.\n",
    "tup=(\"apple\",\"banana\",\"mango\",\"cherry\",\"grapes\",\"orange\")\n",
    "print(tup[0:4])"
   ]
  },
  {
   "cell_type": "markdown",
   "metadata": {},
   "source": [
    "### 10. Create a list using range function and then convert this list into tuple using tuple function?"
   ]
  },
  {
   "cell_type": "code",
   "execution_count": 13,
   "metadata": {},
   "outputs": [
    {
     "name": "stdout",
     "output_type": "stream",
     "text": [
      "1\n",
      "2\n",
      "3\n",
      "4\n",
      "5\n",
      "6\n",
      "7\n",
      "8\n",
      "9\n",
      "(1, 2, 3, 4, 5, 6, 7, 8, 9)\n"
     ]
    }
   ],
   "source": [
    "#Here using range fuction we have create the element from 1 to 9 with 1 step.\n",
    "#using for loop we can print all the element in the list\n",
    "list=range(1,10,1)\n",
    "for i in list:\n",
    "    print(i)\n",
    "print(tuple(list))"
   ]
  },
  {
   "cell_type": "markdown",
   "metadata": {},
   "source": [
    "### 11. Create a tuple using eval function and then obtained the length of tuple?"
   ]
  },
  {
   "cell_type": "code",
   "execution_count": 14,
   "metadata": {},
   "outputs": [
    {
     "name": "stdout",
     "output_type": "stream",
     "text": [
      "Enter a values:1,5,6,8\n",
      "(1, 5, 6, 8)\n"
     ]
    },
    {
     "data": {
      "text/plain": [
       "4"
      ]
     },
     "execution_count": 14,
     "metadata": {},
     "output_type": "execute_result"
    }
   ],
   "source": [
    "#using len() function we can find how many elements or items are in the tuple.\n",
    "#length in python is start from 1.\n",
    "x=eval(input(\"Enter a values:\"))\n",
    "print(x)\n",
    "len(x)"
   ]
  },
  {
   "cell_type": "markdown",
   "metadata": {},
   "source": [
    "### 12. Create a tuple of integer number and then sort the elements of tuple?"
   ]
  },
  {
   "cell_type": "code",
   "execution_count": 6,
   "metadata": {
    "scrolled": true
   },
   "outputs": [
    {
     "name": "stdout",
     "output_type": "stream",
     "text": [
      "Enter a values:5,3,2,78,5\n",
      "0\n",
      "<class 'tuple'>\n",
      "<class 'list'>\n"
     ]
    }
   ],
   "source": [
    "#using sorted() function we can sort the elements or items are in the ascending order.\n",
    "x=eval(input(\"Enter a values:\"))\n",
    "print(x.count(4))\n",
    "print(type(x))\n",
    "print(type(sorted(x)))"
   ]
  },
  {
   "cell_type": "code",
   "execution_count": 23,
   "metadata": {},
   "outputs": [
    {
     "name": "stdout",
     "output_type": "stream",
     "text": [
      "Enter a values:\"rat\",\"bat\",\"sat\",\"pen\"\n",
      "['bat', 'pen', 'rat', 'sat']\n"
     ]
    }
   ],
   "source": [
    "x=eval(input(\"Enter a values:\"))  \n",
    "print(sorted(x))"
   ]
  },
  {
   "cell_type": "markdown",
   "metadata": {},
   "source": [
    "### 13. Create a list of colors name and then insert purple color on 3rd position using insert method?"
   ]
  },
  {
   "cell_type": "code",
   "execution_count": 15,
   "metadata": {},
   "outputs": [
    {
     "name": "stdout",
     "output_type": "stream",
     "text": [
      "['red', 'blue', 'pink', 'yellow', 'black']\n",
      "['red', 'blue', 'pink', 'purple', 'yellow', 'black']\n"
     ]
    }
   ],
   "source": [
    "# Usinf  insert() method we can add the element or item at particular or specific positon(index).\n",
    "\n",
    "color=[\"red\",\"blue\",\"pink\",\"yellow\",\"black\"]\n",
    "print(color)\n",
    "color.insert(3,\"purple\")\n",
    "print(color)"
   ]
  },
  {
   "cell_type": "markdown",
   "metadata": {},
   "source": [
    "### 14. If x= (50, 60, 70, 80, 90, (200,100)) then access 200,100 from the tuple?"
   ]
  },
  {
   "cell_type": "code",
   "execution_count": 25,
   "metadata": {},
   "outputs": [
    {
     "name": "stdout",
     "output_type": "stream",
     "text": [
      "(200, 100)\n"
     ]
    }
   ],
   "source": [
    "x = (50, 60, 70, 80, 90, (200,100))\n",
    "print(x[5])"
   ]
  },
  {
   "cell_type": "markdown",
   "metadata": {},
   "source": [
    "### 15. Create a nested tuple and nested list?"
   ]
  },
  {
   "cell_type": "code",
   "execution_count": 17,
   "metadata": {},
   "outputs": [
    {
     "name": "stdout",
     "output_type": "stream",
     "text": [
      "(50, 60, 70, 80, 90, (200, 100))\n",
      "[1, 4, 7, 'a', 'c', ['rat', 'mat'], 4, 6, 4]\n"
     ]
    }
   ],
   "source": [
    "#A nested list is a list inside another list.\n",
    "#A nested tuple is a tuple inside another tuple.\n",
    "tup = (50, 60, 70, 80, 90, (200,100))\n",
    "list = [1,4,7,'a','c',[\"rat\",\"mat\"],4,6,4] \n",
    "print(tup)\n",
    "print(list)"
   ]
  },
  {
   "cell_type": "code",
   "execution_count": null,
   "metadata": {
    "collapsed": true
   },
   "outputs": [],
   "source": []
  }
 ],
 "metadata": {
  "kernelspec": {
   "display_name": "Python 3",
   "language": "python",
   "name": "python3"
  },
  "language_info": {
   "codemirror_mode": {
    "name": "ipython",
    "version": 3
   },
   "file_extension": ".py",
   "mimetype": "text/x-python",
   "name": "python",
   "nbconvert_exporter": "python",
   "pygments_lexer": "ipython3",
   "version": "3.6.6"
  }
 },
 "nbformat": 4,
 "nbformat_minor": 2
}
