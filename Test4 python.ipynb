{
 "cells": [
  {
   "cell_type": "markdown",
   "metadata": {},
   "source": [
    "## *Python Exercise\n",
    "## *Dictionary and Set in python:"
   ]
  },
  {
   "cell_type": "markdown",
   "metadata": {},
   "source": [
    "### 1. What is meant by dictionary?\n",
    "\n",
    "Ans-A dictionary represents a group of elements arranged in the form of key-value pairs.In the dictionary, the first element is considered as 'key' and next element is taken as its value.the key and its value are separated by a colon(:). All the key-value paires are inserted in curly braces {}."
   ]
  },
  {
   "cell_type": "markdown",
   "metadata": {},
   "source": [
    "### 2. What is difference between dictionary and set?\n",
    "\n",
    "Ans-A dictionary represents a group of elements arranged in the form of key-value pairs.In dictionary the key and its value are separated by a colon(\":\") and keys of dictionary are unique. \n",
    "\n",
    "set has group of elements or a single values instead of key-value pairs.its value are separated by a comma(\",\").Set does not hold duplicate values."
   ]
  },
  {
   "cell_type": "markdown",
   "metadata": {},
   "source": [
    "### 3. Create a python set of mixed data types?"
   ]
  },
  {
   "cell_type": "code",
   "execution_count": 18,
   "metadata": {},
   "outputs": [
    {
     "name": "stdout",
     "output_type": "stream",
     "text": [
      "{1, 'a', 3, 4.5, 8.9, 'rat', 'v'}\n"
     ]
    }
   ],
   "source": [
    "#Here we have created the set of mixed data types means we include the integer,float, character \n",
    "#and string type of data in the set.\n",
    "A={3,1,\"a\",\"v\",\"rat\",4.5,8.9}\n",
    "print(A)"
   ]
  },
  {
   "cell_type": "markdown",
   "metadata": {},
   "source": [
    "### 4. Create a Dictionary of employee name, Id and salary?"
   ]
  },
  {
   "cell_type": "code",
   "execution_count": 21,
   "metadata": {},
   "outputs": [
    {
     "name": "stdout",
     "output_type": "stream",
     "text": [
      "{'name': ['prani', 'rani'], 'Id': [15, 16], 'salary': [10000, 12000]}\n"
     ]
    }
   ],
   "source": [
    "d={'name':[\"prani\",\"rani\"],'Id':[15,16],'salary':[10000,12000]}\n",
    "print(d)"
   ]
  },
  {
   "cell_type": "markdown",
   "metadata": {},
   "source": [
    "### 5. Display key-value pairs from dictionary using items () method?"
   ]
  },
  {
   "cell_type": "code",
   "execution_count": 22,
   "metadata": {},
   "outputs": [
    {
     "name": "stdout",
     "output_type": "stream",
     "text": [
      "{'name': ['prani', 'rani'], 'Id': [15, 16], 'salary': [10000, 12000]}\n",
      "dict_items([('name', ['prani', 'rani']), ('Id', [15, 16]), ('salary', [10000, 12000])])\n"
     ]
    }
   ],
   "source": [
    "#items() method display key as well as values.\n",
    "d={'name':[\"prani\",\"rani\"],'Id':[15,16],'salary':[10000,12000]}\n",
    "print(d)\n",
    "pair=d.items()\n",
    "print(pair)"
   ]
  },
  {
   "cell_type": "markdown",
   "metadata": {},
   "source": [
    "### 6. Create a dictionary and access values of 2nd key from the dictionary?"
   ]
  },
  {
   "cell_type": "code",
   "execution_count": 5,
   "metadata": {},
   "outputs": [
    {
     "name": "stdout",
     "output_type": "stream",
     "text": [
      "{'name': ['prani', 'rani'], 'Id': [15, 16], 'salary': [10000, 12000]}\n",
      "[15, 16]\n",
      "[15, 16]\n"
     ]
    }
   ],
   "source": [
    "#In dictionary we can access the values using key as well as get() function.\n",
    "\n",
    "d={'name':[\"prani\",\"rani\"],'Id':[15,16],'salary':[10000,12000]}\n",
    "print(d)\n",
    "print(d['Id'])\n",
    "print(d.get('Id'))"
   ]
  },
  {
   "cell_type": "markdown",
   "metadata": {},
   "source": [
    "### 7. Create a dictionary and then print empty dictionary using clear() method?"
   ]
  },
  {
   "cell_type": "code",
   "execution_count": 58,
   "metadata": {},
   "outputs": [
    {
     "name": "stdout",
     "output_type": "stream",
     "text": [
      "{'name': ['kohli', 'dhoni'], 'scores': [100, 78]}\n",
      "{}\n"
     ]
    }
   ],
   "source": [
    "#Using Clear() we can create empty dictionary.\n",
    "\n",
    "dict={\"name\":[\"kohli\",\"dhoni\"],\"scores\":[100,78]}\n",
    "print(dict)\n",
    "a=dict.clear()\n",
    "print(dict)"
   ]
  },
  {
   "cell_type": "markdown",
   "metadata": {},
   "source": [
    "### 8. Create a Dictionary of name, roll no, marks, gender and access keys from the dictionary using key () method?"
   ]
  },
  {
   "cell_type": "code",
   "execution_count": 31,
   "metadata": {},
   "outputs": [
    {
     "name": "stdout",
     "output_type": "stream",
     "text": [
      "dict_keys(['name', 'roll no', 'marks', 'gender'])\n"
     ]
    }
   ],
   "source": [
    "d={'name':[\"A\",\"B\"],\"roll no\":[22,23],\"marks\":[56,79],\"gender\":['M','F']}\n",
    "c=d.keys()\n",
    "print(c)"
   ]
  },
  {
   "cell_type": "markdown",
   "metadata": {},
   "source": [
    "### 9. Take two set A for even and B for odd and print the union of two set?"
   ]
  },
  {
   "cell_type": "code",
   "execution_count": 4,
   "metadata": {},
   "outputs": [
    {
     "name": "stdout",
     "output_type": "stream",
     "text": [
      "{1, 2, 3, 4, 5, 6, 7, 8}\n"
     ]
    }
   ],
   "source": [
    "#we can Combine the element of two set using union() method.\n",
    "\n",
    "A={2,4,6,8}\n",
    "B={1,3,5,7}\n",
    "print(A.union(B))"
   ]
  },
  {
   "cell_type": "markdown",
   "metadata": {},
   "source": [
    "### 10. If A={1,2,3,4,5} and B={4,5,6,7,8} then find difference,  intersection of set A and B?"
   ]
  },
  {
   "cell_type": "code",
   "execution_count": 38,
   "metadata": {},
   "outputs": [
    {
     "name": "stdout",
     "output_type": "stream",
     "text": [
      "{1, 2, 3}\n",
      "{4, 5}\n",
      "{1, 2, 3}\n",
      "{4, 5}\n"
     ]
    }
   ],
   "source": [
    "#intersection() gives common element of two set. we can use \"&\" instead of intersection.\n",
    "#difference of A-B gives element in set A not in B and difference of B-A gives element in set B not in A.\n",
    "\n",
    "A={1,2,3,4,5}\n",
    "B={4,5,6,7,8}\n",
    "d=A-B\n",
    "print(d)\n",
    "i=A&B\n",
    "print(i)\n",
    "print(A.difference(B))\n",
    "print(A.intersection(B))"
   ]
  },
  {
   "cell_type": "markdown",
   "metadata": {},
   "source": [
    "### 11. If set= {1, 2, 3, 5, 6} then add an element 4 in the set using add () function and remove 3 using discard () function?"
   ]
  },
  {
   "cell_type": "code",
   "execution_count": 2,
   "metadata": {},
   "outputs": [
    {
     "name": "stdout",
     "output_type": "stream",
     "text": [
      "{1, 2, 4, 5, 6}\n"
     ]
    }
   ],
   "source": [
    "set= {1, 2, 3, 5, 6} \n",
    "set.add(4)\n",
    "set.discard(3)\n",
    "print(set)"
   ]
  },
  {
   "cell_type": "markdown",
   "metadata": {},
   "source": [
    "### 12. Add 12,9,11 in the set A = {1, 2, 3, 5, 6} using update () function?"
   ]
  },
  {
   "cell_type": "code",
   "execution_count": 45,
   "metadata": {},
   "outputs": [
    {
     "name": "stdout",
     "output_type": "stream",
     "text": [
      "{1, 2, 3, 4, 5, 9, 11, 12}\n"
     ]
    }
   ],
   "source": [
    "#using update () function we can add elements in the set.\n",
    "#Here elements are add in sequence.\n",
    "\n",
    "A={1,2,3,4,5}\n",
    "A.update([12,9,11])\n",
    "print(A)"
   ]
  },
  {
   "cell_type": "markdown",
   "metadata": {},
   "source": [
    "### 13. Create a set and print the sum of all the elements in the set?"
   ]
  },
  {
   "cell_type": "code",
   "execution_count": 1,
   "metadata": {},
   "outputs": [
    {
     "name": "stdout",
     "output_type": "stream",
     "text": [
      "15\n"
     ]
    }
   ],
   "source": [
    "#Usinf sum() function we can add all the elements of the set.\n",
    "\n",
    "A={1,2,3,4,5}\n",
    "additon=sum(A)\n",
    "print(additon)"
   ]
  },
  {
   "cell_type": "markdown",
   "metadata": {},
   "source": [
    "### 14. if myset={\"a\",\"p\",\"p\",\"l\",\"e\"}  then check whether a and r is in the set or not using membership?"
   ]
  },
  {
   "cell_type": "code",
   "execution_count": 48,
   "metadata": {},
   "outputs": [
    {
     "name": "stdout",
     "output_type": "stream",
     "text": [
      "True\n",
      "False\n",
      "False\n",
      "True\n"
     ]
    }
   ],
   "source": [
    "myset={\"a\",\"p\",\"p\",\"l\",\"e\"}\n",
    "print('a' in myset)\n",
    "print('r' in myset)\n",
    "print('a' not in myset)\n",
    "print('r' not in myset)"
   ]
  },
  {
   "cell_type": "markdown",
   "metadata": {},
   "source": [
    "### 15. Create a dictionary of players name and scores in match and print keys and values in dictionary using for loop?"
   ]
  },
  {
   "cell_type": "code",
   "execution_count": 53,
   "metadata": {},
   "outputs": [
    {
     "name": "stdout",
     "output_type": "stream",
     "text": [
      "name ['kohli', 'dhoni']\n",
      "scores [100, 78]\n"
     ]
    }
   ],
   "source": [
    "# Using items() here we display key-values pair in dictionary.\n",
    "dict={\"name\":[\"kohli\",\"dhoni\"],\"scores\":[100,78]}\n",
    "for k,v in dict.items():\n",
    "    print(k,v)"
   ]
  },
  {
   "cell_type": "code",
   "execution_count": null,
   "metadata": {
    "collapsed": true
   },
   "outputs": [],
   "source": []
  },
  {
   "cell_type": "code",
   "execution_count": 17,
   "metadata": {},
   "outputs": [
    {
     "name": "stdout",
     "output_type": "stream",
     "text": [
      "give any number    50\n"
     ]
    }
   ],
   "source": [
    "a=eval(input(\"give any number    \"))"
   ]
  },
  {
   "cell_type": "code",
   "execution_count": 18,
   "metadata": {},
   "outputs": [
    {
     "data": {
      "text/plain": [
       "int"
      ]
     },
     "execution_count": 18,
     "metadata": {},
     "output_type": "execute_result"
    }
   ],
   "source": [
    "type(a)"
   ]
  },
  {
   "cell_type": "code",
   "execution_count": 25,
   "metadata": {},
   "outputs": [
    {
     "data": {
      "text/plain": [
       "array([0, 1, 2, 3, 4, 5, 6, 7, 8, 9])"
      ]
     },
     "execution_count": 25,
     "metadata": {},
     "output_type": "execute_result"
    }
   ],
   "source": [
    "import numpy as np\n",
    "np.arange(10)"
   ]
  },
  {
   "cell_type": "code",
   "execution_count": 20,
   "metadata": {},
   "outputs": [
    {
     "name": "stdout",
     "output_type": "stream",
     "text": [
      "0\n",
      "1\n",
      "2\n",
      "3\n",
      "4\n",
      "5\n",
      "6\n",
      "7\n",
      "8\n",
      "9\n"
     ]
    }
   ],
   "source": [
    "for i in range(10):\n",
    "    print(i)"
   ]
  },
  {
   "cell_type": "code",
   "execution_count": null,
   "metadata": {},
   "outputs": [],
   "source": []
  }
 ],
 "metadata": {
  "kernelspec": {
   "display_name": "Python 3",
   "language": "python",
   "name": "python3"
  },
  "language_info": {
   "codemirror_mode": {
    "name": "ipython",
    "version": 3
   },
   "file_extension": ".py",
   "mimetype": "text/x-python",
   "name": "python",
   "nbconvert_exporter": "python",
   "pygments_lexer": "ipython3",
   "version": "3.6.6"
  }
 },
 "nbformat": 4,
 "nbformat_minor": 2
}
